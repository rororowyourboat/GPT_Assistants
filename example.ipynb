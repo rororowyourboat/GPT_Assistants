{
 "cells": [
  {
   "cell_type": "code",
   "execution_count": 2,
   "metadata": {},
   "outputs": [
    {
     "name": "stdout",
     "output_type": "stream",
     "text": [
      "{'nqg_model/__init__.py': 'from nqg_model.params import SINGLE_RUN_PARAMS, INITIAL_STATE, TIMESTEPS, SAMPLES\\nfrom nqg_model.structure import NQG_MODEL_BLOCKS\\n\\ndefault_run_args = (INITIAL_STATE,\\n                     {k: [v] for k, v in SINGLE_RUN_PARAMS.items()},\\n                    NQG_MODEL_BLOCKS,\\n                    TIMESTEPS,\\n                    SAMPLES)', 'nqg_model/__main__.py': 'from nqg_model import default_run_args\\nfrom nqg_model.experiment import standard_run\\nfrom cadCAD_tools.execution import easy_run\\nfrom datetime import datetime\\nimport click\\nimport os\\n\\n\\n@click.command()\\n@click.option(\\'-e\\', \\'--experiment-run\\', \\'experiment_run\\',\\n              default=False,\\n              is_flag=True,\\n              help=\"Make an experiment run instead\")\\n@click.option(\\'-p\\', \\'--pickle\\', \\'pickle\\', default=False, is_flag=True)\\ndef main(experiment_run: bool, pickle: bool) -> None:\\n    timestamp = datetime.now().strftime(\"%Y-%m-%d_%H-%M-%S\")\\n    if experiment_run is False:\\n        df = easy_run(*default_run_args, assign_params=False)\\n    else:\\n        df = standard_run()\\n    if pickle:\\n        df.to_pickle(\\n            f\"data/simulations/multi-run-{timestamp}.pkl.gz\", compression=\"gzip\")\\n\\n\\nif __name__ == \"__main__\":\\n    main()', 'nqg_model/experiment.py': 'from nqg_model.params import INITIAL_STATE\\nfrom nqg_model.params import SINGLE_RUN_PARAMS\\nfrom nqg_model.structure import NQG_MODEL_BLOCKS\\nfrom cadCAD_tools import easy_run # type: ignore\\nfrom pandas import DataFrame\\n\\n\\ndef standard_run() -> DataFrame:\\n    \"\"\"Function which runs the cadCAD simulations\\n\\n    Returns:\\n        DataFrame: A dataframe of simulation data\\n    \"\"\"\\n    # The number of timesteps for each simulation to run\\n    N_timesteps = 360\\n\\n    # The number of monte carlo runs per set of parameters tested\\n    N_samples = 1\\n    # %%\\n    # Get the sweep params in the form of single length arrays\\n    sweep_params = {k: [v] for k, v in SINGLE_RUN_PARAMS.items()}\\n\\n    # Load simulation arguments\\n    sim_args = (INITIAL_STATE,\\n                sweep_params,\\n                NQG_MODEL_BLOCKS,\\n                N_timesteps,\\n                N_samples)\\n\\n    # Run simulation\\n    sim_df = easy_run(*sim_args)\\n    return sim_df', 'nqg_model/helper.py': \"def retrieve_prev_state_users(history):\\n    if len(history) > 1:\\n        previous_state_users = set(u.label \\n                                for u \\n                                in history[-1][-1]['users'])\\n    else:\\n        previous_state_users = set()\\n    return previous_state_users\", 'nqg_model/logic.py': 'from cadCAD_tools.types import Signal, VariableUpdate  # type: ignore\\nfrom nqg_model.types import *\\nfrom typing import Callable\\nfrom copy import deepcopy\\nfrom scipy.stats import poisson, bernoulli  # type: ignore\\nfrom random import choice, sample\\nfrom nqg_model.neural_quorum_governance import *\\nfrom nqg_model.helper import *\\nimport networkx as nx # type: ignore\\n\\ndef generic_policy(_1, _2, _3, _4) -> dict:\\n    \"\"\"Function to generate pass through policy\\n\\n    Args:\\n        _1\\n        _2\\n        _3\\n        _4\\n\\n    Returns:\\n        dict: Empty dictionary\\n    \"\"\"\\n    return {}\\n\\n\\ndef replace_suf(variable: str, default_value=0.0) -> Callable:\\n    \"\"\"Creates replacing function for state update from string\\n\\n    Args:\\n        variable (str): The variable name that is updated\\n\\n    Returns:\\n        function: A function that continues the state across a substep\\n    \"\"\"\\n    return lambda _1, _2, _3, state, signal: (variable, signal.get(variable, default_value))\\n\\n\\ndef add_suf(variable: str, default_value=0.0) -> Callable:\\n    \"\"\"Creates replacing function for state update from string\\n\\n    Args:\\n        variable (str): The variable name that is updated\\n\\n    Returns:\\n        function: A function that continues the state across a substep\\n    \"\"\"\\n    return lambda _1, _2, _3, state, signal: (variable, signal.get(variable, default_value) + state[variable])\\n\\n\\n\\ndef p_evolve_time(params: NQGModelParams, _2, _3, _4) -> Signal:\\n    return {\\'delta_days\\': params[\\'timestep_in_days\\']}\\n\\ndef s_days_passed(_1, _2, _3,\\n                  state: NQGModelState,\\n                  signal: Signal) -> VariableUpdate:\\n    return (\\'days_passed\\', state[\\'days_passed\\'] + signal[\\'delta_days\\'])\\n\\ndef s_delta_days(_1, _2, _3, _4, signal: Signal) -> VariableUpdate:\\n    return (\\'delta_days\\', signal[\\'delta_days\\'])\\n\\n\\ndef s_onboard_users(params: NQGModelParams, _2, _3, state: NQGModelState, _5) -> VariableUpdate:\\n    \"\"\"\\n    Onboard N new users and their relevant properties for NQG\\n    through stochastic processes.\\n\\n    XXX: the new user reputation is chosen from the `ReputationCategory` enum\\n    with every option having equal weight.\\n    XXX: the active past rounds for the new user is randomly sampled\\n    from the list of past rounds with equal weights. The amount of samples\\n    is based on a capped poisson sample.\\n    \"\"\"\\n    new_user_list = deepcopy(state[\\'users\\'])\\n\\n    avg_new_users_per_ts = params[\\'avg_new_users_per_day\\'] * params[\\'timestep_in_days\\']\\n    new_users: int = poisson.rvs(avg_new_users_per_ts)\\n\\n    past_round_choices = params[\\'past_rounds\\']\\n    reputation_choices = list(ReputationCategory) # TODO: parametrize\\n\\n    for i in range(new_users):\\n        past_voting_n = min(poisson.rvs(params[\\'avg_user_past_votes\\']), \\n                            len(past_round_choices))\\n\\n        new_user = User(label=len(new_user_list) + i,\\n                        reputation=choice(reputation_choices),\\n                        active_past_rounds=set(sample(past_round_choices, past_voting_n)))\\n        \\n        new_user_list.append(new_user)\\n\\n    return (\\'users\\', new_user_list)\\n\\ndef p_user_vote(params: NQGModelParams,\\n                 _2,\\n                 history: dict[int, dict[int, NQGModelState]], \\n                 state: NQGModelState) -> Signal:\\n    \"\"\"\\n    Make new users decide on their actions: Abstain, Vote or Delegate\\n\\n    XXX: Bernoulli processes are used for all of the following:\\n        - determining the probability of a user participating (actively or delegating) or not.\\n        - determine whatever the user will actively vote or delegate\\n        - determine if the user will vote on a project or not\\n        - determine if the user will vote yes or no on a project \\n    XXX: Poisson processes are used for all of the following:\\n        - determine how much delegatees an user will have if he opted to delegate \\n    \"\"\"\\n    delegates: DelegationGraph = deepcopy(state[\\'delegatees\\'])\\n    action_matrix: ActionMatrix = deepcopy(state[\\'action_matrix\\'])\\n    decisions: dict[UserUUID, Action] = deepcopy(state[\\'user_round_decisions\\'])\\n\\n    current_users = set(u.label \\n                     for u \\n                     in state[\\'users\\'])\\n    \\n    previous_state_users = retrieve_prev_state_users(history)\\n\\n    new_users = current_users - previous_state_users\\n\\n    for user in new_users:\\n        action_matrix[user] = {}\\n        if bernoulli.rvs(params[\\'new_user_action_probability\\']):\\n            if bernoulli.rvs(params[\\'new_user_round_vote_probability\\']):\\n                decisions[user] = Action.RoundVote\\n                # Active vote\\n                for project in params[\\'projects\\']:\\n                    if bernoulli.rvs(params[\\'new_user_project_vote_probability\\']):\\n                        if bernoulli.rvs(params[\\'new_user_project_vote_yes_probability\\']):\\n                            project_vote = Vote.Yes\\n                        else:\\n                            project_vote = Vote.No\\n                    else:\\n                        project_vote = Vote.Abstain\\n                    action_matrix[user][project] = project_vote\\n            else:\\n                decisions[user] = Action.Delegate\\n                mu = params[\\'new_user_average_delegate_count\\'] - params[\\'new_user_min_delegate_count\\']\\n                delegate_count = poisson.rvs(mu, loc=params[\\'new_user_min_delegate_count\\'])\\n                delegate_count += params[\\'new_user_min_delegate_count\\']\\n                if delegate_count > len(previous_state_users):\\n                    delegate_count = len(previous_state_users)\\n\\n                if delegate_count < params[\\'new_user_min_delegate_count\\']:\\n                    pass\\n                else:\\n                    user_delegates = sample(previous_state_users, delegate_count)\\n                    delegates[user] = user_delegates\\n        else:\\n            decisions[user] = Action.Abstain\\n\\n    return {\\'delegatees\\': delegates,\\n            \\'action_matrix\\': action_matrix, \\n            \\'user_round_decisions\\': decisions}\\n\\n\\n\\ndef s_trust(params: NQGModelParams, _2, history, state: NQGModelState, _5) -> VariableUpdate:\\n    \"\"\"\\n    Make new users trust each other\\n\\n    XXX: this is done by randomly sampling the set of previous users. The amount\\n    of users to be trusted is sampled from a Poisson distribution.\\n    \"\"\"\\n    trustees: TrustGraph = deepcopy(state[\\'trustees\\'])\\n    current_users = set(u.label \\n                     for u \\n                     in state[\\'users\\'])\\n    \\n    previous_state_users = retrieve_prev_state_users(history)\\n\\n    new_users = current_users - previous_state_users\\n    for user in new_users:\\n        n_user_trustees = poisson.rvs(params[\\'new_user_average_trustees\\'])\\n        n_user_trustees = min(n_user_trustees, len(previous_state_users))\\n        user_trustees = set(sample(previous_state_users, n_user_trustees))\\n        trustees[user] = user_trustees\\n\\n    return (\\'trustees\\', trustees)\\n\\ndef s_oracle_state(params: NQGModelParams, _2, _3, state: NQGModelState, _5) -> VariableUpdate:\\n    \"\"\"\\n    Update the state of the oracles (eg. pagerank values & oracles/reputation weights)\\n    \"\"\"\\n    raw_graph = state[\\'trustees\\']\\n\\n    # Update Page rank values\\n    G = nx.from_dict_of_lists(raw_graph,\\n                              create_using=nx.DiGraph)\\n    pagerank_values = nx.pagerank(G, \\n                                  alpha=0.85, \\n                                  personalization=None, \\n                                  max_iter=100,\\n                                  tol=1e-6,\\n                                  nstart=None,\\n                                  weight=None,\\n                                  dangling=None)\\n    \\n    # Update Reputation & Prior Voting user data\\n\\n    reputation_values = {u.label: u.reputation for u in state[\\'users\\']}\\n    prior_voting_values = {u.label: list(u.active_past_rounds) for u in state[\\'users\\']}\\n\\n    new_state = OracleState(pagerank_results=pagerank_values,\\n                            reputation_bonus_values=reputation_values,\\n                            prior_voting_bonus_values=prior_voting_values,\\n                            reputation_bonus_map=state[\\'oracle_state\\'].reputation_bonus_map,\\n                            prior_voting_bonus_map=state[\\'oracle_state\\'].prior_voting_bonus_map)\\n    return (\\'oracle_state\\', new_state)\\n\\n\\ndef p_compute_votes(params: NQGModelParams, _2, _3, state: NQGModelState) -> Signal:\\n    \"\"\"\\n    Perform Neural Quorum Governance\\n    \"\"\"\\n    action_vote_matrix: ActionMatrix = deepcopy(state[\\'action_matrix\\'])\\n    per_project_voting: PerProjectVoting = deepcopy(state[\\'per_project_voting\\'])\\n\\n    # Compute Abstainin users action matrix\\n    abstaining_users = set(u for u, d in state[\\'user_round_decisions\\'].items()\\n                        if d == Action.Abstain)\\n    \\n    for user_id in abstaining_users:\\n        action_vote_matrix[user_id] = {}\\n        for project in params[\\'projects\\']:\\n            action_vote_matrix[user_id][project] = Vote.Abstain\\n    \\n    # Compute Delegatees action matrix with Quorum Delegation\\n    delegating_users = set(u for u, d in state[\\'user_round_decisions\\'].items()\\n                        if d == Action.Delegate)\\n    for user_id in delegating_users:\\n        action_vote_matrix[user_id] = {}\\n        for project in params[\\'projects\\']:\\n            vote = vote_from_quorum_delegation(state[\\'delegatees\\'].get(\\'user\\', []),\\n                                        project,\\n                                        state[\\'action_matrix\\'],\\n                                        state[\\'user_round_decisions\\'],\\n                                        params)\\n            action_vote_matrix[user_id][project] = vote\\n\\n    # Compute vote matrix with Neural Governance\\n    vote_matrix: VotingMatrix = {}\\n    for user_id, votes in action_vote_matrix.items():\\n        vote_matrix[user_id] = {}\\n        for project, vote in votes.items():\\n            power = power_from_neural_governance(user_id, \\n                                                 project, \\n                                                 params[\\'neuron_layers\\'],\\n                                                 state[\\'oracle_state\\'], \\n                                                 params[\\'initial_power\\'])\\n            vote_matrix[user_id][project] = vote * power\\n            if project in per_project_voting:\\n                per_project_voting[project] += vote_matrix[user_id][project]\\n            else:\\n                per_project_voting[project] = vote_matrix[user_id][project]\\n\\n    return {\\'vote_matrix\\': vote_matrix,\\n            \\'per_project_voting\\': per_project_voting}', 'nqg_model/neural_quorum_governance.py': 'from nqg_model.types import *\\nfrom functools import reduce\\n\\n# Part 1. General definitions\\n\\n\\ndef vote_from_quorum_delegation(user_quorum: list[UserUUID],\\n                                project_id: ProjectUUID,\\n                                action_matrix: ActionMatrix,\\n                                user_decisions: dict[UserUUID, Action],\\n                                params: NQGModelParams) -> Vote:\\n    \"\"\"\\n    Compute the quorum agreement for the active participants\\n    \"\"\"\\n    # Filter User quorum for actively voting users only.\\n    valid_delegates = [u\\n                       for u, d in user_decisions.items()\\n                       if d == Action.RoundVote\\n                       and u in user_quorum]\\n\\n    # Select up to the max quorum selected delegates parameter\\n    if len(valid_delegates) > params[\\'max_quorum_selected_delegates\\']:\\n        selected_delegates = valid_delegates[:\\n                                             params[\\'max_quorum_selected_delegates\\']]\\n    else:\\n        selected_delegates = valid_delegates\\n\\n    # Compute Quorum Agreement and Size.\\n    agreement = 0.0\\n    quorum_size = 0\\n    for delegate in selected_delegates:\\n        delegatee_actions = action_matrix.get(delegate, {})\\n        action = delegatee_actions.get(project_id, None)\\n        if action is not None:\\n            quorum_size += 1\\n            if action is Vote.Yes:\\n                agreement += params[\\'quorum_agreement_weight_yes\\']\\n            elif action is Vote.No:\\n                agreement += params[\\'quorum_agreement_weight_no\\']\\n            else:\\n                agreement += params[\\'quorum_agreement_weight_abstain\\']\\n\\n    # Compute Absolute and Relative agreement fractions\\n    absolute_agreement = agreement / params[\\'max_quorum_selected_delegates\\']\\n    if quorum_size > 0:\\n        relative_agreement = agreement / quorum_size\\n    else:\\n        relative_agreement = 0.0\\n\\n    # Resolve vote as per quorum consensus\\n    if abs(absolute_agreement) >= params[\\'quorum_delegation_absolute_threshold\\']:\\n        if abs(relative_agreement) >= params[\\'quorum_delegation_relative_threshold\\']:\\n            if relative_agreement > 0:\\n                return Vote.Yes\\n            else:\\n                return Vote.No\\n        else:\\n            return Vote.Abstain\\n    else:\\n        return Vote.Abstain\\n\\n\\ndef power_from_neural_governance(uid: UserUUID,\\n                                 pid: ProjectUUID,\\n                                 neuron_layers: list[NeuronLayer],\\n                                 oracle_state: OracleState,\\n                                 initial_votes: float = 0.0,\\n                                 print_on_each_layer=False) -> VotingPower:\\n    \"\"\"\\n    Computes a User Vote towards a Project as based on \\n    a Feedforward implementation of Neural Governance for a strictly\\n    sequential network (no layer parallelism).\\n    \"\"\"\\n    current_vote = initial_votes\\n    if print_on_each_layer:\\n        print(f\"Layer {0}: {current_vote}\")\\n    for i, layer in enumerate(neuron_layers):\\n        (neurons, layer_aggregator) = layer\\n        neuron_votes = []\\n        for (neuron_label, neuron) in neurons.items():\\n            (oracle_function, weighting_function) = neuron\\n            raw_neuron_vote = oracle_function(\\n                uid, pid, current_vote, oracle_state)\\n            neuron_votes.append(weighting_function(raw_neuron_vote))\\n        current_vote = layer_aggregator(neuron_votes)\\n\\n        if print_on_each_layer:\\n            print(f\"Layer {i+1}: {current_vote}\")\\n\\n    return current_vote\\n\\n# Part 2. Specific definitions\\n# Prior Voting Bonus\\n\\n\\ndef prior_voting_score(user_id: UserUUID, oracle_state: OracleState) -> VotingPower:\\n    \"\"\"\\n    Oracle Module for the Prior Voting Score\\n    \"\"\"\\n    bonus = 1.0\\n    for r in oracle_state.prior_voting_bonus_values[user_id]:\\n        bonus += oracle_state.prior_voting_bonus_map.get(r, 0.0)\\n    return bonus\\n\\n\\n# Reputation Bonus\\n\\ndef reputation_score(user_id: UserUUID, oracle_state: OracleState) -> VotingPower:\\n    \"\"\"\\n    Oracle Module for the Reputation Score\\n    \"\"\"\\n    return oracle_state.reputation_bonus_map.get(oracle_state.reputation_bonus_values[user_id], 0.0)\\n\\n# Trust Bonus\\n\\n\\ndef trust_score(user_id: UserUUID, oracle_state: OracleState) -> VotingPower:\\n    \"\"\"\\n    Computes the Trust Score as based on the Canonical Page Rank.\\n\\n    This is done by computing the Page Rank on the whole Trust Graph\\n    with default arguments and scaling the results through MinMax.\\n\\n    The resulting scores will be contained between 0.0 and 1.0\\n    \"\"\"\\n    pagerank_values = oracle_state.pagerank_results\\n    if (len(pagerank_values)) < 2 or (user_id not in pagerank_values.keys()):\\n        trust_score = 0.0\\n    else:\\n        value = pagerank_values[user_id]\\n        max_value = max(pagerank_values.values())\\n        min_value = min(pagerank_values.values())\\n        if max_value == min_value:\\n            # XXX: assumption for edge cases\\n            trust_score = 0.5\\n        else:\\n            trust_score = (value - min_value) / (max_value - min_value)\\n    return trust_score\\n\\n\\n# Layering it together\\ndef LAYER_1_AGGREGATOR(lst): return sum(lst)\\n\\n# Take the product of the list\\n\\n\\ndef LAYER_2_AGGREGATOR(lst): return reduce((lambda x, y: x * y), lst)\\n\\n\\nLAYER_1_NEURONS = {\\n    \\'trust_score\\': (lambda u, _1, _2, state: trust_score(u, state),\\n                    lambda x: x),\\n    \\'reputation_score\\': (lambda u, _1, _2, state: reputation_score(u, state),\\n                         lambda x: x)\\n}\\n\\nLAYER_2_NEURONS = {\\n    \\'past_round\\': (lambda u, _2, _3, state: prior_voting_score(u, state),\\n                   lambda x: x),\\n}\\n\\nDEFAULT_NG_LAYERS: list[NeuronLayer] = [(LAYER_1_NEURONS, LAYER_1_AGGREGATOR),\\n                                        (LAYER_2_NEURONS, LAYER_2_AGGREGATOR)]\\n', 'nqg_model/params.py': 'from nqg_model.types import *\\nfrom nqg_model.neural_quorum_governance import DEFAULT_NG_LAYERS\\nfrom numpy import nan\\n\\nTIMESTEPS = 100\\nSAMPLES = 1\\n\\nN_INITIAL_USERS = 6\\nN_PROJECTS = 15\\nN_PAST_ROUNDS = 5\\n\\nAVERAGE_PAST_VOTES_PER_USER = 1.5\\nPAST_ROUNDS = set(i for i in range(N_PAST_ROUNDS))\\n\\nDEFAULT_PROJECTS = set(f\"proj_{i}\" for i in range(N_PROJECTS))\\n\\n\\nINITIAL_ORACLE_STATE = OracleState(\\n    pagerank_results={},\\n    reputation_bonus_map={\\n    ReputationCategory.Tier3: 0.3,\\n    ReputationCategory.Tier2: 0.2,\\n    ReputationCategory.Tier1: 0.1,\\n    ReputationCategory.Uncategorized: 0.0},\\n    prior_voting_bonus_map={\\n    1: 0.0,\\n    2: 0.1,\\n    3: 0.2,\\n    4: 0.3\\n},\\nreputation_bonus_values={},\\nprior_voting_bonus_values={}\\n)\\n\\nINITIAL_STATE = NQGModelState(\\n    days_passed=0.0,\\n    delta_days=nan,\\n    users=[],\\n    user_round_decisions={},\\n    delegatees={},\\n    trustees={},\\n    action_matrix={},\\n    vote_matrix={},\\n    per_project_voting={},\\n    oracle_state=INITIAL_ORACLE_STATE\\n)\\n\\nSINGLE_RUN_PARAMS = NQGModelParams(\\n    label=\\'default_run\\',\\n    timestep_in_days=1.0,\\n    quorum_agreement_weight_yes=1.0,\\n    quorum_agreement_weight_no=-1.0,\\n    quorum_agreement_weight_abstain=0.0,\\n    max_quorum_selected_delegates=5,\\n    max_quorum_candidate_delegates=10,\\n    quorum_delegation_absolute_threshold=1/2,\\n    quorum_delegation_relative_threshold=2/3,\\n    neuron_layers=DEFAULT_NG_LAYERS,\\n    initial_power=0.0,\\n    past_rounds=PAST_ROUNDS,\\n    projects=DEFAULT_PROJECTS,\\n    avg_new_users_per_day=1.0,\\n    avg_user_past_votes=AVERAGE_PAST_VOTES_PER_USER,\\n    new_user_action_probability=0.5,\\n    new_user_round_vote_probability=0.5,\\n    new_user_project_vote_probability=5/N_PROJECTS,\\n    new_user_project_vote_yes_probability=0.8,\\n    new_user_average_delegate_count=6.5,\\n    new_user_min_delegate_count=5,\\n    new_user_average_trustees=7.0\\n\\n)', 'nqg_model/structure.py': \"from nqg_model.logic import *\\nfrom copy import deepcopy\\n\\n\\nNQG_MODEL_BLOCKS: list[dict] = [\\n    {\\n        'label': 'Time Tracking',\\n        'ignore': False,\\n        'desc': 'Updates the time in the system',\\n        'policies': {\\n            'evolve_time': p_evolve_time\\n        },\\n        'variables': {\\n            'days_passed': s_days_passed,\\n            'delta_days': s_delta_days\\n        }\\n    }, \\n    {\\n        'label': 'Onboard users',\\n        'policies': {},\\n        'variables': {\\n            'users': s_onboard_users\\n        }\\n    },\\n    {\\n        'label': 'Trust & Vote',\\n        'policies': {\\n            'user_vote': p_user_vote\\n        },\\n        'variables': {\\n            'trustees': s_trust,\\n            'delegatees': replace_suf,\\n            'action_matrix': replace_suf,\\n            'user_round_decisions': replace_suf\\n        }\\n    },\\n    {\\n        'label': 'Update Oracle State',\\n        'policies': {},\\n        'variables': {\\n            'oracle_state': s_oracle_state\\n        }\\n    },\\n    {\\n        'label': 'Tally votes according to Neural Quorum Governance',\\n        'policies': {\\n            'tally votes': p_compute_votes\\n        },\\n        'variables': {\\n            'vote_matrix': replace_suf,\\n            'per_project_voting': replace_suf\\n        }\\n    }\\n]\\n\\n\\nNQG_MODEL_BLOCKS = [block for block in NQG_MODEL_BLOCKS\\n                              if block.get('ignore', False) is False]\\n\\n# Post Processing\\n\\nblocks: list[dict] = []\\nfor block in [b for b in NQG_MODEL_BLOCKS if b.get('ignore', False) != True]:\\n    _block = deepcopy(block)\\n    for variable, suf in block.get('variables', {}).items():\\n        if suf == add_suf:\\n            _block['variables'][variable] = add_suf(variable)\\n        elif suf == replace_suf:\\n            _block['variables'][variable] = replace_suf(variable)\\n        else:\\n            pass\\n    blocks.append(_block)\\n\\nNQG_MODEL_BLOCKS = deepcopy(blocks)\", 'nqg_model/types.py': 'from typing import Annotated, TypedDict, Union, Callable\\nfrom dataclasses import dataclass\\nfrom enum import Enum, auto\\n\\nDays = Annotated[float, \\'days\\']  # Number of days\\nUserUUID = str\\nProjectUUID = str\\nVotingPower = float\\nPastRoundIndex = int\\nTrustGraph = dict[UserUUID, set[UserUUID]]\\nDelegationGraph = dict[UserUUID, list[UserUUID]]\\n\\nclass ReputationCategory(Enum):\\n    Tier3 = auto()\\n    Tier2 = auto()\\n    Tier1 = auto()\\n    Uncategorized = auto()\\n\\n@dataclass\\nclass OracleState():\\n    pagerank_results: dict[UserUUID, float]\\n    reputation_bonus_values: dict[UserUUID, ReputationCategory]\\n    prior_voting_bonus_values: dict[UserUUID, list[int]]\\n    reputation_bonus_map: dict[ReputationCategory, float]\\n    prior_voting_bonus_map: dict[int, float]\\n\\nclass Vote(float, Enum):\\n    \"\"\"\\n    The Voting Actions towards a Project that a User can take and the \\n    values in terms of Voting Power.\\n    \"\"\"\\n    Yes = 1.0\\n    No = -1.0\\n    Abstain = 0.0\\n\\nclass Action(Enum):\\n    \"\"\"\\n    The Decisions that a User can make in a Round.\\n    \"\"\"\\n    RoundVote = auto()\\n    Delegate = auto()\\n    Abstain = auto()\\n\\n@dataclass\\nclass User():\\n    label: UserUUID\\n    reputation: ReputationCategory\\n    active_past_rounds: set[PastRoundIndex]\\n\\n\\nActionMatrix = dict[UserUUID, dict[ProjectUUID, Vote]]\\nVotingMatrix = dict[UserUUID, dict[ProjectUUID, VotingPower]]\\nPerProjectVoting = dict[ProjectUUID, VotingPower]\\n\\nOracleFunction = Callable[[UserUUID, ProjectUUID, VotingPower, OracleState], VotingPower]\\nWeightingFunction = Callable[[VotingPower], VotingPower]\\nLayerAggregatorFunction = Callable[[list[VotingPower]], VotingPower]\\nNeuron = tuple[OracleFunction, WeightingFunction]\\nNeuronsContainer = dict[Annotated[str, \\'Neuron label\\'], Neuron]\\nNeuronLayer = tuple[NeuronsContainer, LayerAggregatorFunction]\\nclass NQGModelState(TypedDict):\\n    days_passed: Days\\n    delta_days: Days\\n    users: list[User]\\n    \\n    user_round_decisions: dict[UserUUID, Action]\\n    delegatees: DelegationGraph\\n    trustees: TrustGraph\\n    action_matrix: ActionMatrix\\n    vote_matrix: VotingMatrix\\n    per_project_voting: PerProjectVoting\\n    oracle_state: OracleState\\n\\n\\nclass NQGModelParams(TypedDict):\\n    label: str\\n    timestep_in_days: Days\\n\\n    # Quorum Delegation Parameters\\n    quorum_agreement_weight_yes: float\\n    quorum_agreement_weight_no: float\\n    quorum_agreement_weight_abstain: float\\n    max_quorum_selected_delegates: int\\n    max_quorum_candidate_delegates: int\\n    quorum_delegation_absolute_threshold: float\\n    quorum_delegation_relative_threshold: float\\n\\n    # Neural Governance Parameters\\n    neuron_layers: list[NeuronLayer]\\n    initial_power: float\\n\\n    # Neuron parameters\\n    past_rounds: set[PastRoundIndex]\\n\\n    # Exogenous parameters\\n    projects: set[ProjectUUID]\\n\\n    # Behavioral Parameters\\n    avg_new_users_per_day: float\\n    avg_user_past_votes: float\\n    new_user_action_probability: float\\n    new_user_round_vote_probability: float\\n    new_user_project_vote_probability: float\\n    new_user_project_vote_yes_probability: float\\n    new_user_average_delegate_count: float\\n    new_user_min_delegate_count: int\\n    new_user_average_trustees: float\\n\\n\\n\\n    \\n'}\n"
     ]
    }
   ],
   "source": [
    "import requests\n",
    "\n",
    "def fetch_github_files(repo_url, directory):\n",
    "    \"\"\"\n",
    "    Fetches files from a GitHub repository.\n",
    "\n",
    "    Args:\n",
    "        repo_url (str): The URL of the GitHub repository.\n",
    "        directory (str): The directory containing the CADCAD model files.\n",
    "\n",
    "    Returns:\n",
    "        dict: A dictionary mapping file paths to their content.\n",
    "    \"\"\"\n",
    "    base_url = 'https://api.github.com/repos/'\n",
    "    files_content = {}\n",
    "\n",
    "    url = f\"{base_url}{repo_url}/contents/{directory}\"\n",
    "    headers = {'Accept': 'application/vnd.github.v3.raw'}\n",
    "\n",
    "    response = requests.get(url, headers=headers)\n",
    "\n",
    "    if response.status_code == 200:\n",
    "        # Parse the response to get the file paths\n",
    "        files = response.json()\n",
    "\n",
    "        for file_info in files:\n",
    "            file_path = file_info['path']\n",
    "            file_content_url = file_info['download_url']\n",
    "\n",
    "            # Fetch file content\n",
    "            file_content_response = requests.get(file_content_url)\n",
    "\n",
    "            if file_content_response.status_code == 200:\n",
    "                files_content[file_path] = file_content_response.text\n",
    "            else:\n",
    "                print(f\"Failed to fetch content of {file_path}: {file_content_response.status_code}\")\n",
    "    else:\n",
    "        print(f\"Failed to fetch directory listing from {url}: {response.status_code}\")\n",
    "\n",
    "    return files_content\n",
    "\n",
    "# GitHub repository URL\n",
    "repo_url = 'BlockScience/neural-quorum-governance'\n",
    "\n",
    "# Directory containing the CADCAD model files\n",
    "directory = 'nqg_model/'\n",
    "\n",
    "# Fetch files from the GitHub repository\n",
    "files_content = fetch_github_files(repo_url, directory)\n",
    "print(files_content)\n"
   ]
  },
  {
   "cell_type": "code",
   "execution_count": 3,
   "metadata": {},
   "outputs": [
    {
     "data": {
      "text/plain": [
       "{'nqg_model/__init__.py': 'from nqg_model.params import SINGLE_RUN_PARAMS, INITIAL_STATE, TIMESTEPS, SAMPLES\\nfrom nqg_model.structure import NQG_MODEL_BLOCKS\\n\\ndefault_run_args = (INITIAL_STATE,\\n                     {k: [v] for k, v in SINGLE_RUN_PARAMS.items()},\\n                    NQG_MODEL_BLOCKS,\\n                    TIMESTEPS,\\n                    SAMPLES)',\n",
       " 'nqg_model/__main__.py': 'from nqg_model import default_run_args\\nfrom nqg_model.experiment import standard_run\\nfrom cadCAD_tools.execution import easy_run\\nfrom datetime import datetime\\nimport click\\nimport os\\n\\n\\n@click.command()\\n@click.option(\\'-e\\', \\'--experiment-run\\', \\'experiment_run\\',\\n              default=False,\\n              is_flag=True,\\n              help=\"Make an experiment run instead\")\\n@click.option(\\'-p\\', \\'--pickle\\', \\'pickle\\', default=False, is_flag=True)\\ndef main(experiment_run: bool, pickle: bool) -> None:\\n    timestamp = datetime.now().strftime(\"%Y-%m-%d_%H-%M-%S\")\\n    if experiment_run is False:\\n        df = easy_run(*default_run_args, assign_params=False)\\n    else:\\n        df = standard_run()\\n    if pickle:\\n        df.to_pickle(\\n            f\"data/simulations/multi-run-{timestamp}.pkl.gz\", compression=\"gzip\")\\n\\n\\nif __name__ == \"__main__\":\\n    main()',\n",
       " 'nqg_model/experiment.py': 'from nqg_model.params import INITIAL_STATE\\nfrom nqg_model.params import SINGLE_RUN_PARAMS\\nfrom nqg_model.structure import NQG_MODEL_BLOCKS\\nfrom cadCAD_tools import easy_run # type: ignore\\nfrom pandas import DataFrame\\n\\n\\ndef standard_run() -> DataFrame:\\n    \"\"\"Function which runs the cadCAD simulations\\n\\n    Returns:\\n        DataFrame: A dataframe of simulation data\\n    \"\"\"\\n    # The number of timesteps for each simulation to run\\n    N_timesteps = 360\\n\\n    # The number of monte carlo runs per set of parameters tested\\n    N_samples = 1\\n    # %%\\n    # Get the sweep params in the form of single length arrays\\n    sweep_params = {k: [v] for k, v in SINGLE_RUN_PARAMS.items()}\\n\\n    # Load simulation arguments\\n    sim_args = (INITIAL_STATE,\\n                sweep_params,\\n                NQG_MODEL_BLOCKS,\\n                N_timesteps,\\n                N_samples)\\n\\n    # Run simulation\\n    sim_df = easy_run(*sim_args)\\n    return sim_df',\n",
       " 'nqg_model/helper.py': \"def retrieve_prev_state_users(history):\\n    if len(history) > 1:\\n        previous_state_users = set(u.label \\n                                for u \\n                                in history[-1][-1]['users'])\\n    else:\\n        previous_state_users = set()\\n    return previous_state_users\",\n",
       " 'nqg_model/logic.py': 'from cadCAD_tools.types import Signal, VariableUpdate  # type: ignore\\nfrom nqg_model.types import *\\nfrom typing import Callable\\nfrom copy import deepcopy\\nfrom scipy.stats import poisson, bernoulli  # type: ignore\\nfrom random import choice, sample\\nfrom nqg_model.neural_quorum_governance import *\\nfrom nqg_model.helper import *\\nimport networkx as nx # type: ignore\\n\\ndef generic_policy(_1, _2, _3, _4) -> dict:\\n    \"\"\"Function to generate pass through policy\\n\\n    Args:\\n        _1\\n        _2\\n        _3\\n        _4\\n\\n    Returns:\\n        dict: Empty dictionary\\n    \"\"\"\\n    return {}\\n\\n\\ndef replace_suf(variable: str, default_value=0.0) -> Callable:\\n    \"\"\"Creates replacing function for state update from string\\n\\n    Args:\\n        variable (str): The variable name that is updated\\n\\n    Returns:\\n        function: A function that continues the state across a substep\\n    \"\"\"\\n    return lambda _1, _2, _3, state, signal: (variable, signal.get(variable, default_value))\\n\\n\\ndef add_suf(variable: str, default_value=0.0) -> Callable:\\n    \"\"\"Creates replacing function for state update from string\\n\\n    Args:\\n        variable (str): The variable name that is updated\\n\\n    Returns:\\n        function: A function that continues the state across a substep\\n    \"\"\"\\n    return lambda _1, _2, _3, state, signal: (variable, signal.get(variable, default_value) + state[variable])\\n\\n\\n\\ndef p_evolve_time(params: NQGModelParams, _2, _3, _4) -> Signal:\\n    return {\\'delta_days\\': params[\\'timestep_in_days\\']}\\n\\ndef s_days_passed(_1, _2, _3,\\n                  state: NQGModelState,\\n                  signal: Signal) -> VariableUpdate:\\n    return (\\'days_passed\\', state[\\'days_passed\\'] + signal[\\'delta_days\\'])\\n\\ndef s_delta_days(_1, _2, _3, _4, signal: Signal) -> VariableUpdate:\\n    return (\\'delta_days\\', signal[\\'delta_days\\'])\\n\\n\\ndef s_onboard_users(params: NQGModelParams, _2, _3, state: NQGModelState, _5) -> VariableUpdate:\\n    \"\"\"\\n    Onboard N new users and their relevant properties for NQG\\n    through stochastic processes.\\n\\n    XXX: the new user reputation is chosen from the `ReputationCategory` enum\\n    with every option having equal weight.\\n    XXX: the active past rounds for the new user is randomly sampled\\n    from the list of past rounds with equal weights. The amount of samples\\n    is based on a capped poisson sample.\\n    \"\"\"\\n    new_user_list = deepcopy(state[\\'users\\'])\\n\\n    avg_new_users_per_ts = params[\\'avg_new_users_per_day\\'] * params[\\'timestep_in_days\\']\\n    new_users: int = poisson.rvs(avg_new_users_per_ts)\\n\\n    past_round_choices = params[\\'past_rounds\\']\\n    reputation_choices = list(ReputationCategory) # TODO: parametrize\\n\\n    for i in range(new_users):\\n        past_voting_n = min(poisson.rvs(params[\\'avg_user_past_votes\\']), \\n                            len(past_round_choices))\\n\\n        new_user = User(label=len(new_user_list) + i,\\n                        reputation=choice(reputation_choices),\\n                        active_past_rounds=set(sample(past_round_choices, past_voting_n)))\\n        \\n        new_user_list.append(new_user)\\n\\n    return (\\'users\\', new_user_list)\\n\\ndef p_user_vote(params: NQGModelParams,\\n                 _2,\\n                 history: dict[int, dict[int, NQGModelState]], \\n                 state: NQGModelState) -> Signal:\\n    \"\"\"\\n    Make new users decide on their actions: Abstain, Vote or Delegate\\n\\n    XXX: Bernoulli processes are used for all of the following:\\n        - determining the probability of a user participating (actively or delegating) or not.\\n        - determine whatever the user will actively vote or delegate\\n        - determine if the user will vote on a project or not\\n        - determine if the user will vote yes or no on a project \\n    XXX: Poisson processes are used for all of the following:\\n        - determine how much delegatees an user will have if he opted to delegate \\n    \"\"\"\\n    delegates: DelegationGraph = deepcopy(state[\\'delegatees\\'])\\n    action_matrix: ActionMatrix = deepcopy(state[\\'action_matrix\\'])\\n    decisions: dict[UserUUID, Action] = deepcopy(state[\\'user_round_decisions\\'])\\n\\n    current_users = set(u.label \\n                     for u \\n                     in state[\\'users\\'])\\n    \\n    previous_state_users = retrieve_prev_state_users(history)\\n\\n    new_users = current_users - previous_state_users\\n\\n    for user in new_users:\\n        action_matrix[user] = {}\\n        if bernoulli.rvs(params[\\'new_user_action_probability\\']):\\n            if bernoulli.rvs(params[\\'new_user_round_vote_probability\\']):\\n                decisions[user] = Action.RoundVote\\n                # Active vote\\n                for project in params[\\'projects\\']:\\n                    if bernoulli.rvs(params[\\'new_user_project_vote_probability\\']):\\n                        if bernoulli.rvs(params[\\'new_user_project_vote_yes_probability\\']):\\n                            project_vote = Vote.Yes\\n                        else:\\n                            project_vote = Vote.No\\n                    else:\\n                        project_vote = Vote.Abstain\\n                    action_matrix[user][project] = project_vote\\n            else:\\n                decisions[user] = Action.Delegate\\n                mu = params[\\'new_user_average_delegate_count\\'] - params[\\'new_user_min_delegate_count\\']\\n                delegate_count = poisson.rvs(mu, loc=params[\\'new_user_min_delegate_count\\'])\\n                delegate_count += params[\\'new_user_min_delegate_count\\']\\n                if delegate_count > len(previous_state_users):\\n                    delegate_count = len(previous_state_users)\\n\\n                if delegate_count < params[\\'new_user_min_delegate_count\\']:\\n                    pass\\n                else:\\n                    user_delegates = sample(previous_state_users, delegate_count)\\n                    delegates[user] = user_delegates\\n        else:\\n            decisions[user] = Action.Abstain\\n\\n    return {\\'delegatees\\': delegates,\\n            \\'action_matrix\\': action_matrix, \\n            \\'user_round_decisions\\': decisions}\\n\\n\\n\\ndef s_trust(params: NQGModelParams, _2, history, state: NQGModelState, _5) -> VariableUpdate:\\n    \"\"\"\\n    Make new users trust each other\\n\\n    XXX: this is done by randomly sampling the set of previous users. The amount\\n    of users to be trusted is sampled from a Poisson distribution.\\n    \"\"\"\\n    trustees: TrustGraph = deepcopy(state[\\'trustees\\'])\\n    current_users = set(u.label \\n                     for u \\n                     in state[\\'users\\'])\\n    \\n    previous_state_users = retrieve_prev_state_users(history)\\n\\n    new_users = current_users - previous_state_users\\n    for user in new_users:\\n        n_user_trustees = poisson.rvs(params[\\'new_user_average_trustees\\'])\\n        n_user_trustees = min(n_user_trustees, len(previous_state_users))\\n        user_trustees = set(sample(previous_state_users, n_user_trustees))\\n        trustees[user] = user_trustees\\n\\n    return (\\'trustees\\', trustees)\\n\\ndef s_oracle_state(params: NQGModelParams, _2, _3, state: NQGModelState, _5) -> VariableUpdate:\\n    \"\"\"\\n    Update the state of the oracles (eg. pagerank values & oracles/reputation weights)\\n    \"\"\"\\n    raw_graph = state[\\'trustees\\']\\n\\n    # Update Page rank values\\n    G = nx.from_dict_of_lists(raw_graph,\\n                              create_using=nx.DiGraph)\\n    pagerank_values = nx.pagerank(G, \\n                                  alpha=0.85, \\n                                  personalization=None, \\n                                  max_iter=100,\\n                                  tol=1e-6,\\n                                  nstart=None,\\n                                  weight=None,\\n                                  dangling=None)\\n    \\n    # Update Reputation & Prior Voting user data\\n\\n    reputation_values = {u.label: u.reputation for u in state[\\'users\\']}\\n    prior_voting_values = {u.label: list(u.active_past_rounds) for u in state[\\'users\\']}\\n\\n    new_state = OracleState(pagerank_results=pagerank_values,\\n                            reputation_bonus_values=reputation_values,\\n                            prior_voting_bonus_values=prior_voting_values,\\n                            reputation_bonus_map=state[\\'oracle_state\\'].reputation_bonus_map,\\n                            prior_voting_bonus_map=state[\\'oracle_state\\'].prior_voting_bonus_map)\\n    return (\\'oracle_state\\', new_state)\\n\\n\\ndef p_compute_votes(params: NQGModelParams, _2, _3, state: NQGModelState) -> Signal:\\n    \"\"\"\\n    Perform Neural Quorum Governance\\n    \"\"\"\\n    action_vote_matrix: ActionMatrix = deepcopy(state[\\'action_matrix\\'])\\n    per_project_voting: PerProjectVoting = deepcopy(state[\\'per_project_voting\\'])\\n\\n    # Compute Abstainin users action matrix\\n    abstaining_users = set(u for u, d in state[\\'user_round_decisions\\'].items()\\n                        if d == Action.Abstain)\\n    \\n    for user_id in abstaining_users:\\n        action_vote_matrix[user_id] = {}\\n        for project in params[\\'projects\\']:\\n            action_vote_matrix[user_id][project] = Vote.Abstain\\n    \\n    # Compute Delegatees action matrix with Quorum Delegation\\n    delegating_users = set(u for u, d in state[\\'user_round_decisions\\'].items()\\n                        if d == Action.Delegate)\\n    for user_id in delegating_users:\\n        action_vote_matrix[user_id] = {}\\n        for project in params[\\'projects\\']:\\n            vote = vote_from_quorum_delegation(state[\\'delegatees\\'].get(\\'user\\', []),\\n                                        project,\\n                                        state[\\'action_matrix\\'],\\n                                        state[\\'user_round_decisions\\'],\\n                                        params)\\n            action_vote_matrix[user_id][project] = vote\\n\\n    # Compute vote matrix with Neural Governance\\n    vote_matrix: VotingMatrix = {}\\n    for user_id, votes in action_vote_matrix.items():\\n        vote_matrix[user_id] = {}\\n        for project, vote in votes.items():\\n            power = power_from_neural_governance(user_id, \\n                                                 project, \\n                                                 params[\\'neuron_layers\\'],\\n                                                 state[\\'oracle_state\\'], \\n                                                 params[\\'initial_power\\'])\\n            vote_matrix[user_id][project] = vote * power\\n            if project in per_project_voting:\\n                per_project_voting[project] += vote_matrix[user_id][project]\\n            else:\\n                per_project_voting[project] = vote_matrix[user_id][project]\\n\\n    return {\\'vote_matrix\\': vote_matrix,\\n            \\'per_project_voting\\': per_project_voting}',\n",
       " 'nqg_model/neural_quorum_governance.py': 'from nqg_model.types import *\\nfrom functools import reduce\\n\\n# Part 1. General definitions\\n\\n\\ndef vote_from_quorum_delegation(user_quorum: list[UserUUID],\\n                                project_id: ProjectUUID,\\n                                action_matrix: ActionMatrix,\\n                                user_decisions: dict[UserUUID, Action],\\n                                params: NQGModelParams) -> Vote:\\n    \"\"\"\\n    Compute the quorum agreement for the active participants\\n    \"\"\"\\n    # Filter User quorum for actively voting users only.\\n    valid_delegates = [u\\n                       for u, d in user_decisions.items()\\n                       if d == Action.RoundVote\\n                       and u in user_quorum]\\n\\n    # Select up to the max quorum selected delegates parameter\\n    if len(valid_delegates) > params[\\'max_quorum_selected_delegates\\']:\\n        selected_delegates = valid_delegates[:\\n                                             params[\\'max_quorum_selected_delegates\\']]\\n    else:\\n        selected_delegates = valid_delegates\\n\\n    # Compute Quorum Agreement and Size.\\n    agreement = 0.0\\n    quorum_size = 0\\n    for delegate in selected_delegates:\\n        delegatee_actions = action_matrix.get(delegate, {})\\n        action = delegatee_actions.get(project_id, None)\\n        if action is not None:\\n            quorum_size += 1\\n            if action is Vote.Yes:\\n                agreement += params[\\'quorum_agreement_weight_yes\\']\\n            elif action is Vote.No:\\n                agreement += params[\\'quorum_agreement_weight_no\\']\\n            else:\\n                agreement += params[\\'quorum_agreement_weight_abstain\\']\\n\\n    # Compute Absolute and Relative agreement fractions\\n    absolute_agreement = agreement / params[\\'max_quorum_selected_delegates\\']\\n    if quorum_size > 0:\\n        relative_agreement = agreement / quorum_size\\n    else:\\n        relative_agreement = 0.0\\n\\n    # Resolve vote as per quorum consensus\\n    if abs(absolute_agreement) >= params[\\'quorum_delegation_absolute_threshold\\']:\\n        if abs(relative_agreement) >= params[\\'quorum_delegation_relative_threshold\\']:\\n            if relative_agreement > 0:\\n                return Vote.Yes\\n            else:\\n                return Vote.No\\n        else:\\n            return Vote.Abstain\\n    else:\\n        return Vote.Abstain\\n\\n\\ndef power_from_neural_governance(uid: UserUUID,\\n                                 pid: ProjectUUID,\\n                                 neuron_layers: list[NeuronLayer],\\n                                 oracle_state: OracleState,\\n                                 initial_votes: float = 0.0,\\n                                 print_on_each_layer=False) -> VotingPower:\\n    \"\"\"\\n    Computes a User Vote towards a Project as based on \\n    a Feedforward implementation of Neural Governance for a strictly\\n    sequential network (no layer parallelism).\\n    \"\"\"\\n    current_vote = initial_votes\\n    if print_on_each_layer:\\n        print(f\"Layer {0}: {current_vote}\")\\n    for i, layer in enumerate(neuron_layers):\\n        (neurons, layer_aggregator) = layer\\n        neuron_votes = []\\n        for (neuron_label, neuron) in neurons.items():\\n            (oracle_function, weighting_function) = neuron\\n            raw_neuron_vote = oracle_function(\\n                uid, pid, current_vote, oracle_state)\\n            neuron_votes.append(weighting_function(raw_neuron_vote))\\n        current_vote = layer_aggregator(neuron_votes)\\n\\n        if print_on_each_layer:\\n            print(f\"Layer {i+1}: {current_vote}\")\\n\\n    return current_vote\\n\\n# Part 2. Specific definitions\\n# Prior Voting Bonus\\n\\n\\ndef prior_voting_score(user_id: UserUUID, oracle_state: OracleState) -> VotingPower:\\n    \"\"\"\\n    Oracle Module for the Prior Voting Score\\n    \"\"\"\\n    bonus = 1.0\\n    for r in oracle_state.prior_voting_bonus_values[user_id]:\\n        bonus += oracle_state.prior_voting_bonus_map.get(r, 0.0)\\n    return bonus\\n\\n\\n# Reputation Bonus\\n\\ndef reputation_score(user_id: UserUUID, oracle_state: OracleState) -> VotingPower:\\n    \"\"\"\\n    Oracle Module for the Reputation Score\\n    \"\"\"\\n    return oracle_state.reputation_bonus_map.get(oracle_state.reputation_bonus_values[user_id], 0.0)\\n\\n# Trust Bonus\\n\\n\\ndef trust_score(user_id: UserUUID, oracle_state: OracleState) -> VotingPower:\\n    \"\"\"\\n    Computes the Trust Score as based on the Canonical Page Rank.\\n\\n    This is done by computing the Page Rank on the whole Trust Graph\\n    with default arguments and scaling the results through MinMax.\\n\\n    The resulting scores will be contained between 0.0 and 1.0\\n    \"\"\"\\n    pagerank_values = oracle_state.pagerank_results\\n    if (len(pagerank_values)) < 2 or (user_id not in pagerank_values.keys()):\\n        trust_score = 0.0\\n    else:\\n        value = pagerank_values[user_id]\\n        max_value = max(pagerank_values.values())\\n        min_value = min(pagerank_values.values())\\n        if max_value == min_value:\\n            # XXX: assumption for edge cases\\n            trust_score = 0.5\\n        else:\\n            trust_score = (value - min_value) / (max_value - min_value)\\n    return trust_score\\n\\n\\n# Layering it together\\ndef LAYER_1_AGGREGATOR(lst): return sum(lst)\\n\\n# Take the product of the list\\n\\n\\ndef LAYER_2_AGGREGATOR(lst): return reduce((lambda x, y: x * y), lst)\\n\\n\\nLAYER_1_NEURONS = {\\n    \\'trust_score\\': (lambda u, _1, _2, state: trust_score(u, state),\\n                    lambda x: x),\\n    \\'reputation_score\\': (lambda u, _1, _2, state: reputation_score(u, state),\\n                         lambda x: x)\\n}\\n\\nLAYER_2_NEURONS = {\\n    \\'past_round\\': (lambda u, _2, _3, state: prior_voting_score(u, state),\\n                   lambda x: x),\\n}\\n\\nDEFAULT_NG_LAYERS: list[NeuronLayer] = [(LAYER_1_NEURONS, LAYER_1_AGGREGATOR),\\n                                        (LAYER_2_NEURONS, LAYER_2_AGGREGATOR)]\\n',\n",
       " 'nqg_model/params.py': 'from nqg_model.types import *\\nfrom nqg_model.neural_quorum_governance import DEFAULT_NG_LAYERS\\nfrom numpy import nan\\n\\nTIMESTEPS = 100\\nSAMPLES = 1\\n\\nN_INITIAL_USERS = 6\\nN_PROJECTS = 15\\nN_PAST_ROUNDS = 5\\n\\nAVERAGE_PAST_VOTES_PER_USER = 1.5\\nPAST_ROUNDS = set(i for i in range(N_PAST_ROUNDS))\\n\\nDEFAULT_PROJECTS = set(f\"proj_{i}\" for i in range(N_PROJECTS))\\n\\n\\nINITIAL_ORACLE_STATE = OracleState(\\n    pagerank_results={},\\n    reputation_bonus_map={\\n    ReputationCategory.Tier3: 0.3,\\n    ReputationCategory.Tier2: 0.2,\\n    ReputationCategory.Tier1: 0.1,\\n    ReputationCategory.Uncategorized: 0.0},\\n    prior_voting_bonus_map={\\n    1: 0.0,\\n    2: 0.1,\\n    3: 0.2,\\n    4: 0.3\\n},\\nreputation_bonus_values={},\\nprior_voting_bonus_values={}\\n)\\n\\nINITIAL_STATE = NQGModelState(\\n    days_passed=0.0,\\n    delta_days=nan,\\n    users=[],\\n    user_round_decisions={},\\n    delegatees={},\\n    trustees={},\\n    action_matrix={},\\n    vote_matrix={},\\n    per_project_voting={},\\n    oracle_state=INITIAL_ORACLE_STATE\\n)\\n\\nSINGLE_RUN_PARAMS = NQGModelParams(\\n    label=\\'default_run\\',\\n    timestep_in_days=1.0,\\n    quorum_agreement_weight_yes=1.0,\\n    quorum_agreement_weight_no=-1.0,\\n    quorum_agreement_weight_abstain=0.0,\\n    max_quorum_selected_delegates=5,\\n    max_quorum_candidate_delegates=10,\\n    quorum_delegation_absolute_threshold=1/2,\\n    quorum_delegation_relative_threshold=2/3,\\n    neuron_layers=DEFAULT_NG_LAYERS,\\n    initial_power=0.0,\\n    past_rounds=PAST_ROUNDS,\\n    projects=DEFAULT_PROJECTS,\\n    avg_new_users_per_day=1.0,\\n    avg_user_past_votes=AVERAGE_PAST_VOTES_PER_USER,\\n    new_user_action_probability=0.5,\\n    new_user_round_vote_probability=0.5,\\n    new_user_project_vote_probability=5/N_PROJECTS,\\n    new_user_project_vote_yes_probability=0.8,\\n    new_user_average_delegate_count=6.5,\\n    new_user_min_delegate_count=5,\\n    new_user_average_trustees=7.0\\n\\n)',\n",
       " 'nqg_model/structure.py': \"from nqg_model.logic import *\\nfrom copy import deepcopy\\n\\n\\nNQG_MODEL_BLOCKS: list[dict] = [\\n    {\\n        'label': 'Time Tracking',\\n        'ignore': False,\\n        'desc': 'Updates the time in the system',\\n        'policies': {\\n            'evolve_time': p_evolve_time\\n        },\\n        'variables': {\\n            'days_passed': s_days_passed,\\n            'delta_days': s_delta_days\\n        }\\n    }, \\n    {\\n        'label': 'Onboard users',\\n        'policies': {},\\n        'variables': {\\n            'users': s_onboard_users\\n        }\\n    },\\n    {\\n        'label': 'Trust & Vote',\\n        'policies': {\\n            'user_vote': p_user_vote\\n        },\\n        'variables': {\\n            'trustees': s_trust,\\n            'delegatees': replace_suf,\\n            'action_matrix': replace_suf,\\n            'user_round_decisions': replace_suf\\n        }\\n    },\\n    {\\n        'label': 'Update Oracle State',\\n        'policies': {},\\n        'variables': {\\n            'oracle_state': s_oracle_state\\n        }\\n    },\\n    {\\n        'label': 'Tally votes according to Neural Quorum Governance',\\n        'policies': {\\n            'tally votes': p_compute_votes\\n        },\\n        'variables': {\\n            'vote_matrix': replace_suf,\\n            'per_project_voting': replace_suf\\n        }\\n    }\\n]\\n\\n\\nNQG_MODEL_BLOCKS = [block for block in NQG_MODEL_BLOCKS\\n                              if block.get('ignore', False) is False]\\n\\n# Post Processing\\n\\nblocks: list[dict] = []\\nfor block in [b for b in NQG_MODEL_BLOCKS if b.get('ignore', False) != True]:\\n    _block = deepcopy(block)\\n    for variable, suf in block.get('variables', {}).items():\\n        if suf == add_suf:\\n            _block['variables'][variable] = add_suf(variable)\\n        elif suf == replace_suf:\\n            _block['variables'][variable] = replace_suf(variable)\\n        else:\\n            pass\\n    blocks.append(_block)\\n\\nNQG_MODEL_BLOCKS = deepcopy(blocks)\",\n",
       " 'nqg_model/types.py': 'from typing import Annotated, TypedDict, Union, Callable\\nfrom dataclasses import dataclass\\nfrom enum import Enum, auto\\n\\nDays = Annotated[float, \\'days\\']  # Number of days\\nUserUUID = str\\nProjectUUID = str\\nVotingPower = float\\nPastRoundIndex = int\\nTrustGraph = dict[UserUUID, set[UserUUID]]\\nDelegationGraph = dict[UserUUID, list[UserUUID]]\\n\\nclass ReputationCategory(Enum):\\n    Tier3 = auto()\\n    Tier2 = auto()\\n    Tier1 = auto()\\n    Uncategorized = auto()\\n\\n@dataclass\\nclass OracleState():\\n    pagerank_results: dict[UserUUID, float]\\n    reputation_bonus_values: dict[UserUUID, ReputationCategory]\\n    prior_voting_bonus_values: dict[UserUUID, list[int]]\\n    reputation_bonus_map: dict[ReputationCategory, float]\\n    prior_voting_bonus_map: dict[int, float]\\n\\nclass Vote(float, Enum):\\n    \"\"\"\\n    The Voting Actions towards a Project that a User can take and the \\n    values in terms of Voting Power.\\n    \"\"\"\\n    Yes = 1.0\\n    No = -1.0\\n    Abstain = 0.0\\n\\nclass Action(Enum):\\n    \"\"\"\\n    The Decisions that a User can make in a Round.\\n    \"\"\"\\n    RoundVote = auto()\\n    Delegate = auto()\\n    Abstain = auto()\\n\\n@dataclass\\nclass User():\\n    label: UserUUID\\n    reputation: ReputationCategory\\n    active_past_rounds: set[PastRoundIndex]\\n\\n\\nActionMatrix = dict[UserUUID, dict[ProjectUUID, Vote]]\\nVotingMatrix = dict[UserUUID, dict[ProjectUUID, VotingPower]]\\nPerProjectVoting = dict[ProjectUUID, VotingPower]\\n\\nOracleFunction = Callable[[UserUUID, ProjectUUID, VotingPower, OracleState], VotingPower]\\nWeightingFunction = Callable[[VotingPower], VotingPower]\\nLayerAggregatorFunction = Callable[[list[VotingPower]], VotingPower]\\nNeuron = tuple[OracleFunction, WeightingFunction]\\nNeuronsContainer = dict[Annotated[str, \\'Neuron label\\'], Neuron]\\nNeuronLayer = tuple[NeuronsContainer, LayerAggregatorFunction]\\nclass NQGModelState(TypedDict):\\n    days_passed: Days\\n    delta_days: Days\\n    users: list[User]\\n    \\n    user_round_decisions: dict[UserUUID, Action]\\n    delegatees: DelegationGraph\\n    trustees: TrustGraph\\n    action_matrix: ActionMatrix\\n    vote_matrix: VotingMatrix\\n    per_project_voting: PerProjectVoting\\n    oracle_state: OracleState\\n\\n\\nclass NQGModelParams(TypedDict):\\n    label: str\\n    timestep_in_days: Days\\n\\n    # Quorum Delegation Parameters\\n    quorum_agreement_weight_yes: float\\n    quorum_agreement_weight_no: float\\n    quorum_agreement_weight_abstain: float\\n    max_quorum_selected_delegates: int\\n    max_quorum_candidate_delegates: int\\n    quorum_delegation_absolute_threshold: float\\n    quorum_delegation_relative_threshold: float\\n\\n    # Neural Governance Parameters\\n    neuron_layers: list[NeuronLayer]\\n    initial_power: float\\n\\n    # Neuron parameters\\n    past_rounds: set[PastRoundIndex]\\n\\n    # Exogenous parameters\\n    projects: set[ProjectUUID]\\n\\n    # Behavioral Parameters\\n    avg_new_users_per_day: float\\n    avg_user_past_votes: float\\n    new_user_action_probability: float\\n    new_user_round_vote_probability: float\\n    new_user_project_vote_probability: float\\n    new_user_project_vote_yes_probability: float\\n    new_user_average_delegate_count: float\\n    new_user_min_delegate_count: int\\n    new_user_average_trustees: float\\n\\n\\n\\n    \\n'}"
      ]
     },
     "execution_count": 3,
     "metadata": {},
     "output_type": "execute_result"
    }
   ],
   "source": [
    "files_content"
   ]
  },
  {
   "cell_type": "code",
   "execution_count": 1,
   "metadata": {},
   "outputs": [],
   "source": [
    "\n",
    "import requests\n",
    "import faiss\n",
    "from sklearn.feature_extraction.text import TfidfVectorizer\n",
    "import numpy as np\n",
    "import openai\n",
    "# Define your OpenAI API key\n",
    "openai.api_key = 'sk-proj-'"
   ]
  },
  {
   "cell_type": "code",
   "execution_count": 2,
   "metadata": {},
   "outputs": [],
   "source": [
    "\n",
    "def fetch_github_files_recursive(repo_url, path=''):\n",
    "    \"\"\"\n",
    "    Recursively fetch all files in a GitHub repository.\n",
    "\n",
    "    Args:\n",
    "        repo_url (str): The URL of the GitHub repository.\n",
    "        path (str): The current directory path.\n",
    "\n",
    "    Returns:\n",
    "        dict: A dictionary mapping file paths to their content.\n",
    "    \"\"\"\n",
    "    base_url = 'https://api.github.com/repos/'\n",
    "    files_content = {}\n",
    "\n",
    "    url = f\"{base_url}{repo_url}/contents/{path}\"\n",
    "    headers = {'Accept': 'application/vnd.github.v3.raw'}\n",
    "\n",
    "    response = requests.get(url, headers=headers)\n",
    "\n",
    "    if response.status_code == 200:\n",
    "        items = response.json()\n",
    "\n",
    "        for item in items:\n",
    "            if item['type'] == 'file':\n",
    "                file_path = item['path']\n",
    "                file_content_url = item['download_url']\n",
    "\n",
    "                file_content_response = requests.get(file_content_url)\n",
    "\n",
    "                if file_content_response.status_code == 200:\n",
    "                    files_content[file_path] = file_content_response.text\n",
    "                else:\n",
    "                    print(f\"Failed to fetch content of {file_path}: {file_content_response.status_code}\")\n",
    "            elif item['type'] == 'dir':\n",
    "                dir_path = item['path']\n",
    "                sub_dir_files = fetch_github_files_recursive(repo_url, dir_path)\n",
    "                files_content.update(sub_dir_files)\n",
    "    else:\n",
    "        print(f\"Failed to fetch directory listing from {url}: {response.status_code}\")\n",
    "\n",
    "    return files_content\n",
    "\n",
    "# Fetch files from the GitHub repository\n",
    "repo_url = 'BlockScience/neural-quorum-governance'\n",
    "files_content = fetch_github_files_recursive(repo_url)\n",
    "# Save the files content locally if needed"
   ]
  },
  {
   "cell_type": "code",
   "execution_count": 3,
   "metadata": {},
   "outputs": [
    {
     "data": {
      "text/plain": [
       "dict_keys(['.gitignore', 'README.md', 'assets/collage_nqg_demo.png', 'assets/nqg.png', 'notebooks/proof-of-concept-demo.ipynb', 'notebooks/sanity_check.ipynb', 'nqg_model/__init__.py', 'nqg_model/__main__.py', 'nqg_model/experiment.py', 'nqg_model/helper.py', 'nqg_model/logic.py', 'nqg_model/neural_quorum_governance.py', 'nqg_model/params.py', 'nqg_model/structure.py', 'nqg_model/types.py', 'requirements.txt'])"
      ]
     },
     "execution_count": 3,
     "metadata": {},
     "output_type": "execute_result"
    }
   ],
   "source": [
    "files_content.keys()"
   ]
  },
  {
   "cell_type": "code",
   "execution_count": 5,
   "metadata": {},
   "outputs": [],
   "source": [
    "\n",
    "import json\n",
    "# import the OpenAI Python library for calling the OpenAI API\n",
    "from openai import OpenAI\n",
    "import os\n",
    "\n",
    "client = OpenAI(api_key=os.environ.get(\"OPENAI_API_KEY\", \"sk-proj-\"))\n"
   ]
  },
  {
   "cell_type": "code",
   "execution_count": 6,
   "metadata": {},
   "outputs": [
    {
     "name": "stdout",
     "output_type": "stream",
     "text": [
      "{'CADCAD Parameters': ['nqg_model/params.py'], 'CADCAD State Variables': ['nqg_model/types.py'], 'CADCAD State Update Blocks': ['nqg_model/logic.py'], 'CADCAD Policies': ['nqg_model/neural_quorum_governance.py']}\n"
     ]
    }
   ],
   "source": [
    "\n",
    "def get_relevant_files(file_names):\n",
    "    # Create the prompt\n",
    "    prompt = f\"\"\"Here is a list of file names in a CADCAD project repository:\n",
    "    {file_names}\n",
    "\n",
    "    Please identify the files that are likely to contain:\n",
    "    1. CADCAD Parameters\n",
    "    2. CADCAD State Variables\n",
    "    3. CADCAD State Update Blocks\n",
    "    4. CADCAD Policies\n",
    "\n",
    "    Return the file names categorized under each category as a dictionary.\n",
    "    \"\"\"\n",
    "\n",
    "    # Send the prompt to OpenAI GPT-3.5 Turbo\n",
    "    MODEL = \"gpt-3.5-turbo\"\n",
    "    response = client.chat.completions.create(\n",
    "        model=MODEL,\n",
    "        messages=[\n",
    "            {\"role\": \"system\", \"content\": \"You respond only with the categorized dictionary for python in json format.\"},\n",
    "            {\"role\": \"user\", \"content\": prompt},\n",
    "        ],\n",
    "        temperature=0,\n",
    "    )\n",
    "\n",
    "    # Deserialize the JSON response\n",
    "    response_dict = json.loads(response.model_dump_json())\n",
    "    categorized_files=json.loads(response_dict['choices'][0]['message']['content'])\n",
    "\n",
    "\n",
    "    return categorized_files\n",
    "\n",
    "\n",
    "file_names = list(files_content.keys())\n",
    "\n",
    "categorized_files = get_relevant_files(file_names)\n",
    "print(categorized_files)\n"
   ]
  },
  {
   "cell_type": "code",
   "execution_count": 19,
   "metadata": {},
   "outputs": [
    {
     "data": {
      "text/plain": [
       "'from nqg_model.types import *\\nfrom nqg_model.neural_quorum_governance import DEFAULT_NG_LAYERS\\nfrom numpy import nan\\n\\nTIMESTEPS = 100\\nSAMPLES = 1\\n\\nN_INITIAL_USERS = 6\\nN_PROJECTS = 15\\nN_PAST_ROUNDS = 5\\n\\nAVERAGE_PAST_VOTES_PER_USER = 1.5\\nPAST_ROUNDS = set(i for i in range(N_PAST_ROUNDS))\\n\\nDEFAULT_PROJECTS = set(f\"proj_{i}\" for i in range(N_PROJECTS))\\n\\n\\nINITIAL_ORACLE_STATE = OracleState(\\n    pagerank_results={},\\n    reputation_bonus_map={\\n    ReputationCategory.Tier3: 0.3,\\n    ReputationCategory.Tier2: 0.2,\\n    ReputationCategory.Tier1: 0.1,\\n    ReputationCategory.Uncategorized: 0.0},\\n    prior_voting_bonus_map={\\n    1: 0.0,\\n    2: 0.1,\\n    3: 0.2,\\n    4: 0.3\\n},\\nreputation_bonus_values={},\\nprior_voting_bonus_values={}\\n)\\n\\nINITIAL_STATE = NQGModelState(\\n    days_passed=0.0,\\n    delta_days=nan,\\n    users=[],\\n    user_round_decisions={},\\n    delegatees={},\\n    trustees={},\\n    action_matrix={},\\n    vote_matrix={},\\n    per_project_voting={},\\n    oracle_state=INITIAL_ORACLE_STATE\\n)\\n\\nSINGLE_RUN_PARAMS = NQGModelParams(\\n    label=\\'default_run\\',\\n    timestep_in_days=1.0,\\n    quorum_agreement_weight_yes=1.0,\\n    quorum_agreement_weight_no=-1.0,\\n    quorum_agreement_weight_abstain=0.0,\\n    max_quorum_selected_delegates=5,\\n    max_quorum_candidate_delegates=10,\\n    quorum_delegation_absolute_threshold=1/2,\\n    quorum_delegation_relative_threshold=2/3,\\n    neuron_layers=DEFAULT_NG_LAYERS,\\n    initial_power=0.0,\\n    past_rounds=PAST_ROUNDS,\\n    projects=DEFAULT_PROJECTS,\\n    avg_new_users_per_day=1.0,\\n    avg_user_past_votes=AVERAGE_PAST_VOTES_PER_USER,\\n    new_user_action_probability=0.5,\\n    new_user_round_vote_probability=0.5,\\n    new_user_project_vote_probability=5/N_PROJECTS,\\n    new_user_project_vote_yes_probability=0.8,\\n    new_user_average_delegate_count=6.5,\\n    new_user_min_delegate_count=5,\\n    new_user_average_trustees=7.0\\n\\n)'"
      ]
     },
     "execution_count": 19,
     "metadata": {},
     "output_type": "execute_result"
    }
   ],
   "source": [
    "files_content['nqg_model/params.py']"
   ]
  },
  {
   "cell_type": "code",
   "execution_count": null,
   "metadata": {},
   "outputs": [],
   "source": [
    "# create a function create_hackmd_doc that takes a topic from the categorized_files dictionary and its key, then makes an openai call to generate a document that explains the topic\n",
    "\n",
    "def create_hackmd_doc(topic, files_content):\n",
    "    # Create the prompt\n",
    "    prompt = f\"\"\"Please generate a document that explains the topic: {topic}. from the python file provided below:\n",
    "    {files_content}\n",
    "    \"\"\"\n",
    "\n",
    "    # Send the prompt to OpenAI GPT-3.5 Turbo\n",
    "    MODEL = \"gpt-3.5-turbo\"\n",
    "    response = client.chat.completions.create(\n",
    "        model=MODEL,\n",
    "        messages=[\n",
    "            {\"role\": \"system\", \"content\": \"You respond only with the document for python in markdown format.\"},\n",
    "            {\"role\": \"user\", \"content\": prompt},\n",
    "        ],\n",
    "        temperature=0,\n",
    "    )\n",
    "\n",
    "    # Deserialize the JSON response\n",
    "    response_dict = json.loads(response.model_dump_json())\n",
    "    doc = response_dict['choices'][0]['message']['content']\n",
    "\n",
    "    return doc\n",
    "\n",
    "\n",
    "docs = {}\n",
    "for topic in categorized_files:\n",
    "    print(f\"Files related to {topic}:\")\n",
    "    for file_name in categorized_files[topic]:\n",
    "        print(f\"- {file_name}\")\n",
    "        # print(f\"- - {files_content[file_name]}\")\n",
    "        doc = create_hackmd_doc(topic, files_content[file_name])\n",
    "        docs[topic] = doc"
   ]
  },
  {
   "cell_type": "code",
   "execution_count": 23,
   "metadata": {},
   "outputs": [
    {
     "data": {
      "text/plain": [
       "{'CADCAD Parameters': \"```markdown\\n# CADCAD Parameters\\n\\nIn the provided Python script, the CADCAD parameters for a Neural Quorum Governance (NQG) model are defined. These parameters are crucial for simulating the behavior of the governance system. Below are the key CADCAD parameters defined in the script:\\n\\n1. **TIMESTEPS**: The total number of timesteps for the simulation is set to 100.\\n2. **SAMPLES**: The number of samples for the simulation is set to 1.\\n\\n### Initial User and Project Parameters\\n3. **N_INITIAL_USERS**: Number of initial users in the system is set to 6.\\n4. **N_PROJECTS**: Number of projects in the system is set to 15.\\n5. **N_PAST_ROUNDS**: Number of past rounds considered in the simulation is set to 5.\\n6. **AVERAGE_PAST_VOTES_PER_USER**: Average past votes per user is set to 1.5.\\n\\n### Default Project and Round Parameters\\n7. **PAST_ROUNDS**: Set of past rounds based on the number of past rounds defined.\\n8. **DEFAULT_PROJECTS**: Set of default projects named as 'proj_i' where i ranges from 0 to N_PROJECTS.\\n\\n### Initial State Parameters\\n9. **INITIAL_ORACLE_STATE**: Initial state of the Oracle in the system with reputation and voting bonus maps.\\n10. **INITIAL_STATE**: Initial state of the NQG model with various attributes like days passed, users, decisions, delegates, trustees, etc.\\n\\n### Single Run Parameters\\n11. **SINGLE_RUN_PARAMS**: Parameters for a single run of the NQG model including timestep, quorum weights, delegation thresholds, neural network layers, user actions, voting probabilities, and trustee counts.\\n\\nThese parameters play a significant role in defining the behavior and dynamics of the Neural Quorum Governance model within the CADCAD simulation framework.\\n\\n```  \",\n",
       " 'CADCAD State Variables': \"# CADCAD State Variables\\n\\nIn the provided Python file, the CADCAD State Variables are defined within the context of a simulation model for Neural Quorum Governance (NQG). The state variables are used to represent the current state of the system being modeled and are crucial for simulating the dynamics of the system over time.\\n\\n## OracleState Class\\n- **pagerank_results**: A dictionary mapping UserUUID to their pagerank value.\\n- **reputation_bonus_values**: A dictionary mapping UserUUID to their ReputationCategory.\\n- **prior_voting_bonus_values**: A dictionary mapping UserUUID to a list of prior voting bonus values.\\n- **reputation_bonus_map**: A dictionary mapping ReputationCategory to a float value.\\n- **prior_voting_bonus_map**: A dictionary mapping int (prior voting bonus index) to a float value.\\n\\n## Vote Enum\\n- Represents the different voting actions a User can take towards a Project along with their corresponding Voting Power.\\n- Values: Yes (1.0), No (-1.0), Abstain (0.0).\\n\\n## Action Enum\\n- Represents the decisions that a User can make in a Round.\\n- Values: RoundVote, Delegate, Abstain.\\n\\n## User Class\\n- **label**: UserUUID.\\n- **reputation**: ReputationCategory of the user.\\n- **active_past_rounds**: Set of PastRoundIndex indicating the active past rounds for the user.\\n\\n## NQGModelState TypedDict\\n- **days_passed**: Number of days passed.\\n- **delta_days**: Number of days for the time step.\\n- **users**: List of User objects.\\n- **user_round_decisions**: Dictionary mapping UserUUID to their Action in the current round.\\n- **delegatees**: DelegationGraph representing the delegation relationships.\\n- **trustees**: TrustGraph representing the trust relationships.\\n- **action_matrix**: Matrix mapping UserUUID to ProjectUUID to Vote.\\n- **vote_matrix**: Matrix mapping UserUUID to ProjectUUID to VotingPower.\\n- **per_project_voting**: Dictionary mapping ProjectUUID to VotingPower.\\n- **oracle_state**: OracleState object representing the state of the oracle.\\n\\n## NQGModelParams TypedDict\\n- **label**: Label for the model.\\n- **timestep_in_days**: Time step duration in days.\\n- **quorum_agreement_weight_yes/no/abstain**: Weight for different quorum agreement types.\\n- **max_quorum_selected_delegates**: Maximum number of selected delegates for quorum.\\n- **max_quorum_candidate_delegates**: Maximum number of candidate delegates for quorum.\\n- **quorum_delegation_absolute_threshold**: Absolute threshold for quorum delegation.\\n- **quorum_delegation_relative_threshold**: Relative threshold for quorum delegation.\\n- **neuron_layers**: List of NeuronLayer objects.\\n- **initial_power**: Initial power value.\\n- **past_rounds**: Set of PastRoundIndex for neuron parameters.\\n- **projects**: Set of ProjectUUID representing the projects.\\n- **avg_new_users_per_day**: Average number of new users per day.\\n- **avg_user_past_votes**: Average number of past votes per user.\\n- **new_user_action_probability**: Probability of a new user taking action.\\n- **new_user_round_vote_probability**: Probability of a new user voting in a round.\\n- **new_user_project_vote_probability**: Probability of a new user voting on a project.\\n- **new_user_project_vote_yes_probability**: Probability of a new user voting 'Yes' on a project.\\n- **new_user_average_delegate_count**: Average number of delegates for a new user.\\n- **new_user_min_delegate_count**: Minimum number of delegates for a new user.\\n- **new_user_average_trustees**: Average number of trustees for a new user.\\n\\nThese state variables and parameters are essential for defining the initial state of the simulation model and for capturing the dynamics of the Neural Quorum Governance system over time.\",\n",
       " 'CADCAD State Update Blocks': '# CADCAD State Update Blocks\\n\\n## Introduction\\nIn the context of CADCAD (Complex Adaptive Dynamics Computer-Aided Design), State Update Blocks are functions that define how the state of a system evolves over time in a simulation. These blocks are crucial in modeling the behavior of agents and entities within a system and capturing the dynamics of complex systems.\\n\\n## Functions\\n1. **`generic_policy`**\\n    - Description: Function to generate a pass-through policy.\\n    - Arguments: `_1`, `_2`, `_3`, `_4`\\n    - Returns: Empty dictionary\\n\\n2. **`replace_suf`**\\n    - Description: Creates a function for updating the state by replacing a variable with a new value.\\n    - Arguments: `variable (str)`, `default_value=0.0`\\n    - Returns: A function that continues the state across a substep\\n\\n3. **`add_suf`**\\n    - Description: Creates a function for updating the state by adding a value to a variable.\\n    - Arguments: `variable (str)`, `default_value=0.0`\\n    - Returns: A function that continues the state across a substep\\n\\n4. **`p_evolve_time`**\\n    - Description: Returns a signal for evolving time based on the timestep.\\n    - Arguments: `params: NQGModelParams`, `_2`, `_3`, `_4`\\n    - Returns: Signal with the delta days for the timestep\\n\\n5. **`s_days_passed`**\\n    - Description: Updates the number of days passed in the state.\\n    - Arguments: `_1`, `_2`, `_3`, `state: NQGModelState`, `signal: Signal`\\n    - Returns: Variable update for the days passed\\n\\n6. **`s_delta_days`**\\n    - Description: Updates the delta days in the state.\\n    - Arguments: `_1`, `_2`, `_3`, `_4`, `signal: Signal`\\n    - Returns: Variable update for the delta days\\n\\n7. **`s_onboard_users`**\\n    - Description: Onboards new users with relevant properties through stochastic processes.\\n    - Arguments: `params: NQGModelParams`, `_2`, `_3`, `state: NQGModelState`, `_5`\\n    - Returns: Variable update for the users list\\n\\n8. **`p_user_vote`**\\n    - Description: Makes new users decide on their actions (Abstain, Vote, or Delegate) using Bernoulli and Poisson processes.\\n    - Arguments: `params: NQGModelParams`, `_2`, `history: dict[int, dict[int, NQGModelState]]`, `state: NQGModelState`\\n    - Returns: Signal with updates for delegates, action matrix, and user round decisions\\n\\n9. **`s_trust`**\\n    - Description: Makes new users trust each other by randomly sampling previous users.\\n    - Arguments: `params: NQGModelParams`, `_2`, `history`, `state: NQGModelState`, `_5`\\n    - Returns: Variable update for the trustees\\n\\n10. **`s_oracle_state`**\\n    - Description: Updates the state of oracles (e.g., pagerank values and reputation weights).\\n    - Arguments: `params: NQGModelParams`, `_2`, `_3`, `state: NQGModelState`, `_5`\\n    - Returns: Variable update for the oracle state\\n\\n11. **`p_compute_votes`**\\n    - Description: Performs Neural Quorum Governance to compute user votes based on actions and neural governance.\\n    - Arguments: `params: NQGModelParams`, `_2`, `_3`, `state: NQGModelState`\\n    - Returns: Signal with updates for vote matrix and per project voting\\n\\nThese functions collectively define the state update blocks for the CADCAD simulation, governing the evolution of the system state over time.',\n",
       " 'CADCAD Policies': '# CADCAD Policies\\n\\n## Part 1: General Definitions\\n\\n### Function: `vote_from_quorum_delegation`\\n- **Parameters**:\\n  - `user_quorum`: list of UserUUID\\n  - `project_id`: ProjectUUID\\n  - `action_matrix`: ActionMatrix\\n  - `user_decisions`: dict of UserUUID to Action\\n  - `params`: NQGModelParams\\n- **Returns**: Vote\\n- **Description**: Computes the quorum agreement for the active participants based on certain criteria.\\n\\n### Function: `power_from_neural_governance`\\n- **Parameters**:\\n  - `uid`: UserUUID\\n  - `pid`: ProjectUUID\\n  - `neuron_layers`: list of NeuronLayer\\n  - `oracle_state`: OracleState\\n  - `initial_votes`: float (default: 0.0)\\n  - `print_on_each_layer`: bool (default: False)\\n- **Returns**: VotingPower\\n- **Description**: Computes a User Vote towards a Project using a Feedforward Neural Governance implementation.\\n\\n## Part 2: Specific Definitions\\n\\n### Function: `prior_voting_score`\\n- **Parameters**:\\n  - `user_id`: UserUUID\\n  - `oracle_state`: OracleState\\n- **Returns**: VotingPower\\n- **Description**: Oracle Module for the Prior Voting Score.\\n\\n### Function: `reputation_score`\\n- **Parameters**:\\n  - `user_id`: UserUUID\\n  - `oracle_state`: OracleState\\n- **Returns**: VotingPower\\n- **Description**: Oracle Module for the Reputation Score.\\n\\n### Function: `trust_score`\\n- **Parameters**:\\n  - `user_id`: UserUUID\\n  - `oracle_state`: OracleState\\n- **Returns**: VotingPower\\n- **Description**: Computes the Trust Score based on the Canonical Page Rank algorithm.\\n\\n### Function: `LAYER_1_AGGREGATOR`\\n- **Description**: Aggregator function for Layer 1.\\n\\n### Function: `LAYER_2_AGGREGATOR`\\n- **Description**: Aggregator function for Layer 2.\\n\\n### Variables:\\n- `LAYER_1_NEURONS`: Dictionary of neurons for Layer 1.\\n- `LAYER_2_NEURONS`: Dictionary of neurons for Layer 2.\\n- `DEFAULT_NG_LAYERS`: List of default NeuronLayers.\\n\\nThis document provides an overview of CADCAD Policies implemented in the Python code provided.'}"
      ]
     },
     "execution_count": 23,
     "metadata": {},
     "output_type": "execute_result"
    }
   ],
   "source": [
    "docs"
   ]
  },
  {
   "cell_type": "code",
   "execution_count": 30,
   "metadata": {},
   "outputs": [
    {
     "name": "stdout",
     "output_type": "stream",
     "text": [
      "Document for CADCAD Parameters:\n",
      "Document for CADCAD State Variables:\n",
      "Document for CADCAD State Update Blocks:\n",
      "Document for CADCAD Policies:\n"
     ]
    }
   ],
   "source": [
    "for topic, doc in docs.items():\n",
    "    print(f\"Document for {topic}:\")\n",
    "    # print(doc)\n",
    "    # convert doc to markdown file\n",
    "    with open(f\"{topic}.md\", \"w\") as f:\n",
    "        f.write(doc)"
   ]
  },
  {
   "cell_type": "code",
   "execution_count": null,
   "metadata": {},
   "outputs": [],
   "source": []
  },
  {
   "cell_type": "code",
   "execution_count": null,
   "metadata": {},
   "outputs": [],
   "source": []
  }
 ],
 "metadata": {
  "kernelspec": {
   "display_name": "gpt-assistants-0aIlM8xB-py3.10",
   "language": "python",
   "name": "python3"
  },
  "language_info": {
   "codemirror_mode": {
    "name": "ipython",
    "version": 3
   },
   "file_extension": ".py",
   "mimetype": "text/x-python",
   "name": "python",
   "nbconvert_exporter": "python",
   "pygments_lexer": "ipython3",
   "version": "3.10.9"
  }
 },
 "nbformat": 4,
 "nbformat_minor": 2
}
